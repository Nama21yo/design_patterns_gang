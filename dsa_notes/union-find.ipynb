{
 "cells": [
  {
   "cell_type": "markdown",
   "id": "9d6f815b-ba64-4ea9-9424-5c8c37319017",
   "metadata": {},
   "source": [
    "## Prerequisite- Understand MST\n",
    "## Prim's Algorithm for MST"
   ]
  },
  {
   "cell_type": "code",
   "execution_count": 5,
   "id": "510cf9bf-3f3d-4eea-8403-e258b32527c4",
   "metadata": {},
   "outputs": [
    {
     "name": "stdout",
     "output_type": "stream",
     "text": [
      "Edges in MST (weight, node, parent):\n",
      "(2, 1, 0)\n",
      "(3, 2, 1)\n",
      "(5, 4, 1)\n",
      "(6, 3, 0)\n",
      "Total weight: 16\n"
     ]
    }
   ],
   "source": [
    "# Prim using adjacency list and a min-heap (priority queue).\n",
    "# Graph is a dict or list: adjacency list where graph[u] = [(v, weight), ...].\n",
    "\n",
    "import heapq\n",
    "\n",
    "def prim_algo(adj, start=0):\n",
    "    n = len(adj)\n",
    "    visited = set()\n",
    "    min_heap = [(0, start, -1)] # weight , node, parent\n",
    "    mst = []\n",
    "    total_weight = 0\n",
    "\n",
    "    while min_heap:\n",
    "        weight, node, parent = heapq.heappop(min_heap)\n",
    "\n",
    "        if node in visited:\n",
    "            continue\n",
    "        visited.add(node)\n",
    "\n",
    "        if parent != -1: # at first don't count it\n",
    "            mst.append((weight, node, parent))\n",
    "            total_weight += weight\n",
    "\n",
    "        for neigh, w in adj[node]:\n",
    "            if neigh not in visited:\n",
    "                heapq.heappush(min_heap, (w, neigh, node))\n",
    "    return mst, total_weight\n",
    "\n",
    "# Time complexity: O(E log V)\n",
    "# Space complexity: O(V + E)\n",
    "adj = {\n",
    "        0: [(1, 2), (3, 6)],\n",
    "        1: [(0, 2), (2, 3), (3, 8), (4, 5)],\n",
    "        2: [(1, 3), (4, 7)],\n",
    "        3: [(0, 6), (1, 8), (4, 9)],\n",
    "        4: [(1, 5), (2, 7), (3, 9)]\n",
    "    }\n",
    "\n",
    "mst_edges, total_weight = prim_algo(adj, start=0)\n",
    "\n",
    "print(\"Edges in MST (weight, node, parent):\")\n",
    "for e in mst_edges:\n",
    "    print(e)\n",
    "print(\"Total weight:\", total_weight)"
   ]
  },
  {
   "cell_type": "markdown",
   "id": "87474536-267c-4798-ab57-261cb1c44202",
   "metadata": {},
   "source": [
    "## Union Find"
   ]
  },
  {
   "cell_type": "code",
   "execution_count": 9,
   "id": "5c0dc871-d932-4de0-9cc2-10460baa0040",
   "metadata": {},
   "outputs": [],
   "source": [
    "#  # O(constructor) = O(V)\n",
    "# # O(find) = amortized O(𝜶(V))* ≅ amortized O(1)\n",
    "# # O(union) = amortized O(𝜶(V))* ≅ amortized O(1)\n",
    "\n",
    "# * 𝜶, known as the Inverse Ackermann function, grows so\n",
    "# slowly that 𝜶(All the observable particles in the universe)\n",
    "# is approximately equal to 4.\n",
    "# https://codeforces.com/blog/entry/98275\n",
    "\n",
    "## Union by Rank\n",
    "class UnionFind_Rank:\n",
    "    def __init__(self, size):\n",
    "        self.parent = [i for i in range(size)]\n",
    "        self.rank = [0] * size\n",
    "    def find(self, x):\n",
    "        if x == self.parent[x]:\n",
    "            return self.parent[x]\n",
    "\n",
    "        self.parent[x] = self.find(self.parent[x]) # path compression\n",
    "        return self.parent[x]\n",
    "    def union(self, x , y):\n",
    "        parentx, parenty = self.find(x), self.find(y)\n",
    "        # connect smaller rank to larger rank\n",
    "\n",
    "        # if you connect the smaller to larger the rank won't increase\n",
    "        if parentx != parenty:\n",
    "            rankx = self.rank[parentx]\n",
    "            ranky = self.rank[parenty]\n",
    "\n",
    "            if rankx > ranky:\n",
    "                self.parent[parenty] = parentx\n",
    "            elif rankx < ranky:\n",
    "                self.parent[parentx] = parenty\n",
    "            else:\n",
    "                self.parent[parenty] = parentx\n",
    "                self.rank[parentx] += 1"
   ]
  },
  {
   "cell_type": "code",
   "execution_count": 16,
   "id": "1977f2dc-d749-4c84-8646-73710fac063c",
   "metadata": {},
   "outputs": [],
   "source": [
    "# Union by Size\n",
    "class UnionFind_Size:\n",
    "    def __init__(self, size):\n",
    "        self.parent = [i for i in range(size)]\n",
    "        self.size = [0] * size\n",
    "    def find(self, x):\n",
    "        if x == self.parent[x]:\n",
    "            return self.parent[x]\n",
    "\n",
    "        # do path compression\n",
    "        self.parent[x] = self.find(self.parent[x])\n",
    "        return self.parent[x]\n",
    "    def union(self, x , y):\n",
    "        parentx, parenty = self.find(x), self.find(y)\n",
    "\n",
    "        if parentx != parenty:\n",
    "            if self.size[parentx] > self.size[parenty]:\n",
    "                self.parent[parenty] = parentx\n",
    "                self.size[parentx] += self.size[parenty]\n",
    "            else:\n",
    "                self.parent[parentx] = parenty\n",
    "                self.size[parenty] += self.size[parentx]"
   ]
  },
  {
   "cell_type": "code",
   "execution_count": 20,
   "id": "92c3ecc3-d7cb-4cde-bf3d-d205953f0cff",
   "metadata": {},
   "outputs": [],
   "source": [
    "class UnionFind:\n",
    "    def __init__(self, size):\n",
    "        self.parent = [i for i in range(size)]\n",
    "        self.rank = [0] * size\n",
    "        self.size = [0] * size\n",
    "\n",
    "    def find(self, x):\n",
    "        if x == self.parent[x]:\n",
    "            return self.parent[x]\n",
    "        # path compression\n",
    "        self.parent[x] = self.find(self.parent[x])\n",
    "        return self.parent[x]\n",
    "\n",
    "    def unionByRank(self, x, y):\n",
    "        parentx , parenty = self.find(x), self.find(y)\n",
    "\n",
    "        if parentx != parenty:\n",
    "            rankx = self.rank[parentx]\n",
    "            ranky = self.rank[parenty]\n",
    "\n",
    "            if rankx > ranky:\n",
    "                self.parent[parenty] = parentx\n",
    "            elif rankx < ranky:\n",
    "                self.parent[parentx] = parenty\n",
    "            else:\n",
    "                self.parent[parenty] = parentx\n",
    "                self.rank[parentx] += 1\n",
    "    def unionBySize(self, x, y):\n",
    "        parentx , parenty = self.find(x), self.find(y)\n",
    "\n",
    "        if parentx != parenty:\n",
    "            if self.size[parentx] > self.size[parenty]:\n",
    "                self.parent[parenty] = parentx\n",
    "                self.size[parentx] += self.size[parenty]\n",
    "            else:\n",
    "                self.parent[parentx] = parenty\n",
    "                self.size[parenty] += self.size[parentx]"
   ]
  },
  {
   "cell_type": "markdown",
   "id": "3ead4ef5-d572-406a-8b37-2d5f5cf8c672",
   "metadata": {},
   "source": [
    "## Kruskal's Algorithm"
   ]
  },
  {
   "cell_type": "code",
   "execution_count": 23,
   "id": "6456ba72-51ed-487c-93ce-32cc346976a1",
   "metadata": {},
   "outputs": [
    {
     "name": "stdout",
     "output_type": "stream",
     "text": [
      "MST Cost: 19\n",
      "MST Edges: [(2, 3, 4), (0, 3, 5), (0, 1, 10)]\n"
     ]
    }
   ],
   "source": [
    "def kruskal_algorithm(n, edges):\n",
    "    edges.sort(key= lambda edge : edge[2])\n",
    "\n",
    "    uf = UnionFind(n)\n",
    "    total_weight = 0\n",
    "    mst = []\n",
    "\n",
    "    for u, v, weight in edges:\n",
    "        if uf.find(u) != uf.find(v):\n",
    "            uf.unionByRank(u, v)\n",
    "            total_weight += weight\n",
    "            mst.append((u, v , weight))\n",
    "\n",
    "            # if we already have n - 1 edges the MST is complete\n",
    "            if len(mst) == n - 1:\n",
    "                break\n",
    "    return total_weight, mst\n",
    "\n",
    "# Time Complexity:\n",
    "    # Sorting edges: O(ElogE), where E is the number of edges.\n",
    "    # Union-Find operations: O(α(n)), where α(n) is the inverse Ackermann function (almost constant).\n",
    "# Thus, the overall time complexity is dominated by the edge sorting: O(ElogE).\n",
    "# Space Complexity: O(V+E), where V is the number of vertices and E is the number of edges.\n",
    "    \n",
    "edges = [\n",
    "    (0, 1, 10),  # Edge between node 0 and 1 with weight 10\n",
    "    (0, 2, 6),   # Edge between node 0 and 2 with weight 6\n",
    "    (0, 3, 5),   # Edge between node 0 and 3 with weight 5\n",
    "    (1, 3, 15),  # Edge between node 1 and 3 with weight 15\n",
    "    (2, 3, 4)    # Edge between node 2 and 3 with weight 4\n",
    "]\n",
    "\n",
    "n = 4  # Number of nodes\n",
    "\n",
    "mst_cost, mst_edges = kruskal_algorithm(n, edges)\n",
    "print(\"MST Cost:\", mst_cost)  # Output: MST Cost: 19\n",
    "print(\"MST Edges:\", mst_edges)  # Output: MST Edges: [(2, 3, 4), (0, 3, 5), (0, 1, 10)]"
   ]
  },
  {
   "cell_type": "code",
   "execution_count": 25,
   "id": "89a37ec6-e924-460e-9bd1-5fe1aa469c79",
   "metadata": {},
   "outputs": [],
   "source": [
    "# trick to find the number of components after implementing unionFind\n",
    "# components = sum(1 for i in range(n) if uf.find(i) == i)\n",
    "# sum(1 for i in range(n) if uf.find(i) == i):\n",
    "# This is a generator expression that iterates over all nodes (from 0 to n-1), and for each node, it checks if that node is a root (uf.find(i) == i).\n",
    "# If uf.find(i) == i is true (meaning node i is a root), the expression yields 1 (i.e., it counts that node as a separate component).\n",
    "# The sum() function then sums up all the 1s, giving the total number of connected components in the graph."
   ]
  },
  {
   "cell_type": "code",
   "execution_count": null,
   "id": "7c6895d6-bd43-4125-bb7a-9f8f7ff2e712",
   "metadata": {},
   "outputs": [],
   "source": []
  }
 ],
 "metadata": {
  "kernelspec": {
   "display_name": "Python 3 (ipykernel)",
   "language": "python",
   "name": "python3"
  },
  "language_info": {
   "codemirror_mode": {
    "name": "ipython",
    "version": 3
   },
   "file_extension": ".py",
   "mimetype": "text/x-python",
   "name": "python",
   "nbconvert_exporter": "python",
   "pygments_lexer": "ipython3",
   "version": "3.11.13"
  }
 },
 "nbformat": 4,
 "nbformat_minor": 5
}
