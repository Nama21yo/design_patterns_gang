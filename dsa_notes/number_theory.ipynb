{
 "cells": [
  {
   "cell_type": "markdown",
   "id": "a28ed2cf-13d3-4a3d-ad2c-7eb4dad3b4f4",
   "metadata": {},
   "source": [
    "## Number Theory Concepts"
   ]
  },
  {
   "cell_type": "markdown",
   "id": "0b5b5daf-77ba-4cbc-9e76-3a0d46844af4",
   "metadata": {},
   "source": [
    "### Harmonic Number\n",
    "\n",
    "<img width=\"615\" height=\"319\" alt=\"Harmonic Prove O(logn)\" src=\"https://github.com/user-attachments/assets/3a4dc74f-057b-46f5-b142-fb259592dcef\" />"
   ]
  },
  {
   "cell_type": "markdown",
   "id": "44ff49f7-773d-45f8-8507-c40ee8f452de",
   "metadata": {},
   "source": [
    "### 1.Introduction about primes"
   ]
  },
  {
   "cell_type": "code",
   "execution_count": 1,
   "id": "238efc93-fe40-4ec6-bee7-7d9c98309f89",
   "metadata": {},
   "outputs": [
    {
     "name": "stdout",
     "output_type": "stream",
     "text": [
      "It is Prime\n",
      "It is isn't Prime\n"
     ]
    },
    {
     "data": {
      "text/plain": [
       "False"
      ]
     },
     "execution_count": 1,
     "metadata": {},
     "output_type": "execute_result"
    }
   ],
   "source": [
    "# Prime Numbers\n",
    "# 7 - it is prime\n",
    "# 4 - It is not prime\n",
    "\n",
    "# Checking Prime Number\n",
    "# function, for loop, condition\n",
    "def check_Prime1(num): # num > Integer\n",
    "    count_factor = 0\n",
    "    for factor in range(1,num + 1):\n",
    "        if num % factor == 0:\n",
    "            count_factor += 1\n",
    "    if count_factor == 2:\n",
    "        print(\"It is Prime\")\n",
    "    else:\n",
    "        print(\"It is isn't Prime\")\n",
    "    # return None\n",
    "# check_Prime1(7) # True > Prime\n",
    "# check_Prime1(6) # False > Not Prime\n",
    "\n",
    "def check_Prime2(num):\n",
    "    is_Prime = True\n",
    "    for factor in range(num - 1, 1, -1):\n",
    "        if num % factor == 0:\n",
    "            is_Prime = False\n",
    "            break\n",
    "    if is_Prime:\n",
    "        print(\"It is Prime\")\n",
    "    else:\n",
    "        print(\"It is isn't Prime\")\n",
    "            \n",
    "# Why we can ignore > sqrt(n)\n",
    "# X > √N, N / X = Y\n",
    "# N / X < N / √N → N / X < √N → Y < √N\n",
    "# So if we have divisor > √N, we also will have divisor < √N\n",
    "\n",
    "# We need to check 10\n",
    "# 5 > √10, 10 / 5 = 2\n",
    "#  10 / 5 < 10 / √10 → 10 / 5 < √10 → 2 < √10\n",
    "# O(log(n))\n",
    "def check_Prime3(num):\n",
    "    # 0 - n\n",
    "    # 0 - sqrt(n)\n",
    "    # sqrt(n) = i\n",
    "    # i * i = n\n",
    "    # for i in range(2 , (int(sqrt(num))))\n",
    "    i = 2\n",
    "    is_Prime = True\n",
    "    while i * i <= num:\n",
    "        if num % i == 0:\n",
    "            is_Prime = False\n",
    "            break\n",
    "        i += 1\n",
    "    return is_Prime\n",
    "    \n",
    "check_Prime2(7) # True > Prime\n",
    "check_Prime2(6) # False > Not Prime\n",
    "\n",
    "check_Prime3(7) # True > Prime\n",
    "check_Prime3(6) # False > Not Prime\n",
    "check_Prime3(10)"
   ]
  },
  {
   "cell_type": "markdown",
   "id": "453806d0-babe-4d80-8fde-aa66e4bcdb11",
   "metadata": {},
   "source": [
    "### Sieve Of Erathoneses\n",
    "https://cp-algorithms.com/algebra/sieve-of-eratosthenes.html"
   ]
  },
  {
   "cell_type": "code",
   "execution_count": 4,
   "id": "eef80cd3-ea1f-4d0d-92e7-7ea78d4388f3",
   "metadata": {},
   "outputs": [
    {
     "name": "stdout",
     "output_type": "stream",
     "text": [
      "2 3 5 7 "
     ]
    }
   ],
   "source": [
    "def print_Primes(num): # num = 100\n",
    "    for i in range(2, num + 1):\n",
    "        if check_Prime3(i):\n",
    "            print(i, end=\" \")\n",
    "print_Primes(10)\n",
    "# sieve Of Erathoneses - It isn't needed for the exam just for the future"
   ]
  },
  {
   "cell_type": "code",
   "execution_count": 14,
   "id": "d1dc41b0-60ef-4209-9139-3a92cd60e9df",
   "metadata": {},
   "outputs": [
    {
     "name": "stdout",
     "output_type": "stream",
     "text": [
      "2 3 5 7 11 13 17 19 23 29 31 37 41 43 47 53 59 61 67 71 73 79 83 89 97 "
     ]
    }
   ],
   "source": [
    "# The Sieve of Eratosthenes is an ancient algorithm for \n",
    "# finding all prime numbers up to a specified integer.  \n",
    "# 0(nloglogn)\n",
    "def sieve(num):\n",
    "    table = [True] * num\n",
    "    table[0] = table[1] = False\n",
    "\n",
    "    for i in range(2, num):\n",
    "        if table[i]:\n",
    "            for j in range(i * i, num, i):\n",
    "                table[j] = False\n",
    "            print(i, end=\" \")\n",
    "sieve(100)"
   ]
  },
  {
   "cell_type": "markdown",
   "id": "352bd200-7f61-4cc3-b187-b5445ab15175",
   "metadata": {},
   "source": [
    "### Prime Factorization"
   ]
  },
  {
   "cell_type": "code",
   "execution_count": 3,
   "id": "4062c691-6b47-4281-99c5-8a11730f6fef",
   "metadata": {},
   "outputs": [
    {
     "name": "stdout",
     "output_type": "stream",
     "text": [
      "4 2\n",
      "1 3\n",
      "2 2\n",
      "11 1\n",
      "4 2\n",
      "3 1\n",
      "3\n",
      "2\n",
      "{2: 2, 3: 0, 4: 11}\n"
     ]
    }
   ],
   "source": [
    "def prime_factorization1(num):\n",
    "    # 48 > 2 ^ 4 * 3\n",
    "    for factor in range(2, num):\n",
    "        count = 0\n",
    "        while num % factor == 0:\n",
    "            num = num // factor\n",
    "            count += 1\n",
    "        if count != 0:\n",
    "            print(count, factor)\n",
    "prime_factorization1(48)\n",
    "\n",
    "def prime_factorization2(num):\n",
    "    # 48 > 2 ^ 4 * 3\n",
    "    factor = 2\n",
    "    while factor * factor <= num:\n",
    "        count = 0\n",
    "        while num % factor == 0:\n",
    "            num = num // factor\n",
    "            count += 1\n",
    "        if count != 0:\n",
    "            print(count, factor)\n",
    "        factor += 1\n",
    "    if num != 1:\n",
    "        print(num, 1)\n",
    "\n",
    "prime_factorization2(44)\n",
    "prime_factorization2(48)\n",
    "\n",
    "def largest_prime_factor(num):\n",
    "    factor = 2\n",
    "    largest_Prime = -1\n",
    "    while factor * factor <= num:\n",
    "        count = 0\n",
    "        while num % factor == 0:\n",
    "            num = num // factor\n",
    "            largest_Prime = factor\n",
    "            count += 1\n",
    "        # if count != 0:\n",
    "            # print(count, factor)\n",
    "        factor += 1\n",
    "    if num != 1:\n",
    "        # if num > largest_Prime:\n",
    "        #     largest_Prime = num\n",
    "        largest_Prime = max(num, largest_Prime)\n",
    "        # print(num, 1)\n",
    "    return largest_Prime\n",
    "my_largest_Prime = largest_prime_factor(6)\n",
    "print(my_largest_Prime)\n",
    "\n",
    "def max_count_Prime(num):\n",
    "    factor = 2\n",
    "    max_count = -1\n",
    "    max_factor = -1\n",
    "    while factor * factor <= num:\n",
    "        count = 0\n",
    "        while num % factor == 0:\n",
    "            num = num // factor\n",
    "            count += 1\n",
    "        if count > max_count:\n",
    "            max_count = count\n",
    "            max_factor = factor\n",
    "        factor += 1\n",
    "    if num != 1:\n",
    "        if max_count < 1:\n",
    "            max_factor = num\n",
    "    return max_factor\n",
    "my_largest_count_Prime = max_count_Prime(48)\n",
    "print(my_largest_count_Prime)\n",
    "\n",
    "def count_Prime_with_dictionary(num):\n",
    "    factor = 2\n",
    "    count_dictionary = {}\n",
    "    while factor * factor <= num:\n",
    "        count = 0\n",
    "        while num % factor == 0:\n",
    "            num = num // factor\n",
    "            count += 1\n",
    "            # dict[key] = value\n",
    "        count_dictionary[factor] = count\n",
    "        factor += 1\n",
    "    if num != 1:\n",
    "        count_dictionary[factor] = num\n",
    "    return count_dictionary\n",
    "count_dict = count_Prime_with_dictionary(44)\n",
    "print(count_dict)\n"
   ]
  },
  {
   "cell_type": "code",
   "execution_count": null,
   "id": "649f410e-a0a0-4489-b5a7-59f943de819b",
   "metadata": {},
   "outputs": [],
   "source": []
  }
 ],
 "metadata": {
  "kernelspec": {
   "display_name": "Python 3 (ipykernel)",
   "language": "python",
   "name": "python3"
  },
  "language_info": {
   "codemirror_mode": {
    "name": "ipython",
    "version": 3
   },
   "file_extension": ".py",
   "mimetype": "text/x-python",
   "name": "python",
   "nbconvert_exporter": "python",
   "pygments_lexer": "ipython3",
   "version": "3.11.13"
  }
 },
 "nbformat": 4,
 "nbformat_minor": 5
}
