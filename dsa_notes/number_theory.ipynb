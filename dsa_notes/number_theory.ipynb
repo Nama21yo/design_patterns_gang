{
 "cells": [
  {
   "cell_type": "markdown",
   "id": "a28ed2cf-13d3-4a3d-ad2c-7eb4dad3b4f4",
   "metadata": {},
   "source": [
    "## Number Theory Concepts"
   ]
  },
  {
   "cell_type": "code",
   "execution_count": null,
   "id": "238efc93-fe40-4ec6-bee7-7d9c98309f89",
   "metadata": {},
   "outputs": [],
   "source": []
  }
 ],
 "metadata": {
  "kernelspec": {
   "display_name": "Python 3 (ipykernel)",
   "language": "python",
   "name": "python3"
  },
  "language_info": {
   "codemirror_mode": {
    "name": "ipython",
    "version": 3
   },
   "file_extension": ".py",
   "mimetype": "text/x-python",
   "name": "python",
   "nbconvert_exporter": "python",
   "pygments_lexer": "ipython3",
   "version": "3.11.13"
  }
 },
 "nbformat": 4,
 "nbformat_minor": 5
}
