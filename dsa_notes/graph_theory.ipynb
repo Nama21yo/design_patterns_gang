{
 "cells": [
  {
   "cell_type": "markdown",
   "id": "6f899d78-1c5c-46cc-bc1e-85eeb8929e40",
   "metadata": {},
   "source": [
    "# Graph Theory"
   ]
  },
  {
   "cell_type": "markdown",
   "id": "bd27d905-9a40-435e-a263-243916784df3",
   "metadata": {},
   "source": [
    "### Shortest Path Algorithm"
   ]
  },
  {
   "cell_type": "markdown",
   "id": "ef1d1aa1-154d-4ce5-90c1-97098f6156b1",
   "metadata": {},
   "source": [
    "#### Dikstra Algorithm"
   ]
  },
  {
   "cell_type": "code",
   "execution_count": 14,
   "id": "0468b704-9657-4eb8-8594-34b93f1cca52",
   "metadata": {},
   "outputs": [
    {
     "name": "stdout",
     "output_type": "stream",
     "text": [
      "{'A': 0, 'B': 2, 'C': 5, 'D': 3}\n"
     ]
    }
   ],
   "source": [
    "# Using Priority Queue (Heap)\n",
    "import heapq\n",
    "\n",
    "def dijkstra(graph, start):\n",
    "    distances = {node : float(\"inf\") for node in graph}\n",
    "    distances[start] = 0\n",
    "\n",
    "    # using minHeap\n",
    "    min_heap = [(0, start)]\n",
    "\n",
    "    while min_heap:\n",
    "        current_dist, current_node = heapq.heappop(min_heap)\n",
    "\n",
    "        # skip if there is already a better path\n",
    "        if current_dist > distances[current_node]:\n",
    "            continue\n",
    "\n",
    "        for neighbour, weight in graph[current_node]:\n",
    "            distance = current_dist + weight\n",
    "\n",
    "            # relaxation\n",
    "            if distance < distances[neighbour]:\n",
    "                distances[neighbour] = distance\n",
    "                heapq.heappush(min_heap, (distance, neighbour))\n",
    "    return distances\n",
    "graph = {\n",
    "    'A': [('B', 2), ('C', 5)],\n",
    "    'B': [('A', 2), ('C', 6), ('D', 1)],\n",
    "    'C': [('A', 5), ('B', 6), ('D', 2)],\n",
    "    'D': [('B', 1), ('C', 2)]\n",
    "}\n",
    "\n",
    "result = dijkstra(graph, 'A')\n",
    "print(result)\n"
   ]
  },
  {
   "cell_type": "code",
   "execution_count": 15,
   "id": "2be1492e-233d-4406-a36e-58599a824945",
   "metadata": {},
   "outputs": [
    {
     "name": "stdout",
     "output_type": "stream",
     "text": [
      "{'A': 0, 'B': 2, 'C': 5, 'D': 3}\n"
     ]
    }
   ],
   "source": [
    "# using Set\n",
    "\n",
    "def dijkstra_set(graph, start):\n",
    "    distances = {node : float(\"inf\") for node in graph}\n",
    "    distances[start] = 0\n",
    "    processed = set()\n",
    "\n",
    "    # using also heap for the ordering\n",
    "    heap = [(0, start)]\n",
    "\n",
    "    while heap:\n",
    "        current_dist, current_node = heapq.heappop(heap)\n",
    "\n",
    "        if current_node in processed:\n",
    "            continue\n",
    "        processed.add(current_node)\n",
    "\n",
    "        for neigh, weight in graph[current_node]:\n",
    "            distance = current_dist + weight\n",
    "\n",
    "            # relaxation \n",
    "            if distance < distances[neigh]:\n",
    "                distances[neigh] = distance\n",
    "                heapq.heappush(heap, (distance, neigh))\n",
    "    return distances\n",
    "\n",
    "graph = {\n",
    "    'A': [('B', 2), ('C', 5)],\n",
    "    'B': [('A', 2), ('C', 6), ('D', 1)],\n",
    "    'C': [('A', 5), ('B', 6), ('D', 2)],\n",
    "    'D': [('B', 1), ('C', 2)]\n",
    "}\n",
    "\n",
    "result = dijkstra_set(graph, 'A')\n",
    "print(result)"
   ]
  },
  {
   "cell_type": "code",
   "execution_count": null,
   "id": "7ebcb294-f457-4698-af7d-b91551f9cf55",
   "metadata": {},
   "outputs": [],
   "source": []
  }
 ],
 "metadata": {
  "kernelspec": {
   "display_name": "Python 3 (ipykernel)",
   "language": "python",
   "name": "python3"
  },
  "language_info": {
   "codemirror_mode": {
    "name": "ipython",
    "version": 3
   },
   "file_extension": ".py",
   "mimetype": "text/x-python",
   "name": "python",
   "nbconvert_exporter": "python",
   "pygments_lexer": "ipython3",
   "version": "3.11.13"
  }
 },
 "nbformat": 4,
 "nbformat_minor": 5
}
